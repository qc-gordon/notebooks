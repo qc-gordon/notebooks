{
 "cells": [
  {
   "cell_type": "markdown",
   "metadata": {},
   "source": [
    "# Xor Encryption"
   ]
  },
  {
   "cell_type": "code",
   "execution_count": null,
   "metadata": {},
   "outputs": [],
   "source": [
    "#run this the first time to install the library\n",
    "%pip install tabulate"
   ]
  },
  {
   "cell_type": "markdown",
   "metadata": {},
   "source": [
    "XOR (eXclusive OR) is a logical operation just like AND/OR/NOT but it's a little harder to grasp intuitively. In C-style programming languages it's represented with the caret (`^`)\n",
    "\n",
    "It can help to think of it as a logical diff. 2 bits are compared and the result is 1 if they're different or 0 if they're the same.\n"
   ]
  },
  {
   "cell_type": "code",
   "execution_count": 2,
   "metadata": {},
   "outputs": [
    {
     "name": "stdout",
     "output_type": "stream",
     "text": [
      "╒══════╤══════╤═══════╕\n",
      "│    A │    B │   A^B │\n",
      "╞══════╪══════╪═══════╡\n",
      "│    0 │    0 │     0 │\n",
      "├──────┼──────┼───────┤\n",
      "│    0 │    1 │     1 │\n",
      "├──────┼──────┼───────┤\n",
      "│    1 │    0 │     1 │\n",
      "├──────┼──────┼───────┤\n",
      "│    1 │    1 │     0 │\n",
      "╘══════╧══════╧═══════╛\n"
     ]
    }
   ],
   "source": [
    "from tabulate import tabulate\n",
    "\n",
    "table = [\n",
    "    [' A',' B','A^B'],\n",
    "    [0,0,0^0],\n",
    "    [0,1,0^1],\n",
    "    [1,0,1^0],\n",
    "    [1,1,1^1],\n",
    "]\n",
    "\n",
    "print(tabulate(table, headers='firstrow', tablefmt='fancy_grid'))"
   ]
  },
  {
   "cell_type": "markdown",
   "metadata": {},
   "source": [
    "## One Time Pads\n",
    "This makes it useful for encryption when a random series of bytes are used as a secret key. You can encrypt a message by doing\n",
    "```\n",
    "cyphertext=xor(plaintext, key)\n",
    "```\n",
    "and then someone with the same series of bytes can decrypt with\n",
    "```\n",
    "plaintext=xor(cyphertext, key)\n",
    "```\n",
    "  \n",
    "Assuming the key is truly random, the message will be unrecoverable without having a copy of the keyfile.\n",
    "\n",
    "Unfortunately this key needs to be the same length as the message and it can never be reused or it leads to other types of decryption attacks."
   ]
  },
  {
   "cell_type": "markdown",
   "metadata": {},
   "source": [
    "Before we continue here's a reminder that ascii characters are stored as bytes and not every byte represents a printable character\n",
    "\n",
    "<img src=\"https://upload.wikimedia.org/wikipedia/commons/thumb/d/dd/ASCII-Table.svg/1200px-ASCII-Table.svg.png\" width=\"60%\" />"
   ]
  },
  {
   "cell_type": "code",
   "execution_count": 3,
   "metadata": {},
   "outputs": [
    {
     "name": "stdout",
     "output_type": "stream",
     "text": [
      "╒════════╤═══════╤═══════╤══════════╕\n",
      "│ char   │   ord │ hex   │      bin │\n",
      "╞════════╪═══════╪═══════╪══════════╡\n",
      "│ s      │   115 │ 0x73  │ 01110011 │\n",
      "├────────┼───────┼───────┼──────────┤\n",
      "│ e      │   101 │ 0x65  │ 01100101 │\n",
      "├────────┼───────┼───────┼──────────┤\n",
      "│ c      │    99 │ 0x63  │ 01100011 │\n",
      "├────────┼───────┼───────┼──────────┤\n",
      "│ r      │   114 │ 0x72  │ 01110010 │\n",
      "├────────┼───────┼───────┼──────────┤\n",
      "│ e      │   101 │ 0x65  │ 01100101 │\n",
      "├────────┼───────┼───────┼──────────┤\n",
      "│ t      │   116 │ 0x74  │ 01110100 │\n",
      "╘════════╧═══════╧═══════╧══════════╛\n"
     ]
    }
   ],
   "source": [
    "plaintext = \"secret\"\n",
    "row=['char','ord','hex','bin']\n",
    "table=[row]\n",
    "\n",
    "for letter in plaintext:                #for each letter\n",
    "    row=(\n",
    "        [letter,                        #the character\n",
    "        ord(letter),                    #the ascii representation of that character\n",
    "        hex(ord(letter)),               #in hex\n",
    "        '{0:08b}'.format(ord(letter))   #in binary (you can just use bin())\n",
    "        ])\n",
    "    table.append(row)\n",
    "\n",
    "print(tabulate(table, headers='firstrow', tablefmt='fancy_grid'))\n",
    "# here's our plaintext broken into different encodings to show how it's stored in memory\n",
    "# try changing the loop from \"plaintext\" to \"key\" "
   ]
  },
  {
   "cell_type": "code",
   "execution_count": 4,
   "metadata": {},
   "outputs": [],
   "source": [
    "# this function takes two strings and does an XOR for each byte\n",
    "def xor(s1,s2):\n",
    "    return ''.join(chr(ord(a) ^ ord(b)) for a,b in zip(s1,s2))\n",
    "\n",
    "#this one repeats the key until it's the proper length\n",
    "def repeat(s, l):\n",
    "    return (s*(int(l/len(s))+1))[:l]"
   ]
  },
  {
   "cell_type": "code",
   "execution_count": 5,
   "metadata": {},
   "outputs": [
    {
     "name": "stdout",
     "output_type": "stream",
     "text": [
      "b'H\\x0fo5H\\xc3\\x90'\n",
      "keykey\n"
     ]
    }
   ],
   "source": [
    "#here's how you might generate a random key\n",
    "import random\n",
    "securekey =''\n",
    "for char in range(6):\n",
    "    securekey+=(chr(random.randint(0,255)))\n",
    "print(str.encode(securekey))\n",
    "\n",
    "#but just for the demo, here's a less secure way to do it that you might see used in malware or CTFs\n",
    "key = \"key\"\n",
    "#stretch out the key\n",
    "expanded_key=repeat(key,len(plaintext))\n",
    "print(expanded_key)"
   ]
  },
  {
   "cell_type": "code",
   "execution_count": 6,
   "metadata": {},
   "outputs": [
    {
     "name": "stdout",
     "output_type": "stream",
     "text": [
      "b'\\x18\\x00\\x1a\\x19\\x00\\r'\n"
     ]
    }
   ],
   "source": [
    "#plaintext^key\n",
    "cyphertext=xor(plaintext,expanded_key)\n",
    "#output encrypted message\n",
    "print(str.encode(cyphertext))"
   ]
  },
  {
   "cell_type": "markdown",
   "metadata": {},
   "source": [
    "And that's your encrypted string. Here's how to decrypt"
   ]
  },
  {
   "cell_type": "code",
   "execution_count": 7,
   "metadata": {},
   "outputs": [
    {
     "name": "stdout",
     "output_type": "stream",
     "text": [
      "secret\n"
     ]
    }
   ],
   "source": [
    "print(xor(cyphertext,expanded_key))"
   ]
  },
  {
   "cell_type": "markdown",
   "metadata": {},
   "source": [
    "Let's take a closer look at what happened there"
   ]
  },
  {
   "cell_type": "code",
   "execution_count": 8,
   "metadata": {},
   "outputs": [
    {
     "name": "stdout",
     "output_type": "stream",
     "text": [
      "╒══════════╤══════════╤══════════╤══════════╤══════════╤══════════╕\n",
      "│ s        │ e        │ c        │ r        │ e        │ t        │\n",
      "╞══════════╪══════════╪══════════╪══════════╪══════════╪══════════╡\n",
      "│ 01110011 │ 01100101 │ 01100011 │ 01110010 │ 01100101 │ 01110100 │\n",
      "├──────────┼──────────┼──────────┼──────────┼──────────┼──────────┤\n",
      "│ k        │ e        │ y        │ k        │ e        │ y        │\n",
      "├──────────┼──────────┼──────────┼──────────┼──────────┼──────────┤\n",
      "│ 01101011 │ 01100101 │ 01111001 │ 01101011 │ 01100101 │ 01111001 │\n",
      "├──────────┼──────────┼──────────┼──────────┼──────────┼──────────┤\n",
      "│ 24       │ 0        │ 26       │ 25       │ 0        │ 13       │\n",
      "├──────────┼──────────┼──────────┼──────────┼──────────┼──────────┤\n",
      "│ 00011000 │ 00000000 │ 00011010 │ 00011001 │ 00000000 │ 00001101 │\n",
      "╘══════════╧══════════╧══════════╧══════════╧══════════╧══════════╛\n"
     ]
    }
   ],
   "source": [
    "table=[]\n",
    "\n",
    "table.append(list(plaintext))\n",
    "\n",
    "row=[]\n",
    "for letter in plaintext:\n",
    "    row.append('{0:08b}'.format(ord(letter)))   #show the plaintext in binary\n",
    "table.append(row)\n",
    "\n",
    "table.append(list(expanded_key))\n",
    "row=[]\n",
    "for letter in expanded_key:\n",
    "    row.append('{0:08b}'.format(ord(letter)))   #show the key in binary\n",
    "table.append(row)\n",
    "\n",
    "table.append(list(str.encode(cyphertext)))\n",
    "row=[]\n",
    "for letter in cyphertext:\n",
    "    row.append('{0:08b}'.format(ord(letter)))   #show the XOR encrypted string in binary\n",
    "table.append(row)\n",
    "\n",
    "print(tabulate(table, headers='firstrow', tablefmt='fancy_grid'))"
   ]
  },
  {
   "cell_type": "markdown",
   "metadata": {},
   "source": [
    "You should see that for each bit that matches between the secret and the key there's a `0` in the bottom and where those bits differ there's a `1`. \n",
    "\n",
    "It's interesting to notice that if you use the same byte in both your key and your plaintext the output is a zero byte.\n",
    "\n",
    "And also that because we used only lowercase characters (in the range `0110 0001` - `0111 1010`) the first three bits match for every character.\n",
    "This means that every cyphertext byte starts with 3 0s. This shows why using a repeating password is not as secure as a totally random range of bytes. \n",
    "\n",
    "If the plaintext had been a binary file it might have large sections with null characters (`0x00`). If you XOR `0x00 ^ key` then the output is just the key so it's sometimes visible as a repeating pattern in the \"encrypted\" file.\n"
   ]
  },
  {
   "cell_type": "markdown",
   "metadata": {},
   "source": [
    "## OTP reuse\n",
    "Another thing you might see is one time pads being reused. This is a big nono because\n",
    "\n",
    "`cyphertext1 ^ cyphertext2` \n",
    "\n",
    "is the same as\n",
    "\n",
    "`plaintext1 ^ key ^ plaintext2 ^ key`\n",
    "\n",
    "the two encryption operations cancel each other out and you're left with\n",
    "\n",
    "`plaintext1 ^ plaintext2`\n",
    "\n",
    "I'll leave you to experiment. "
   ]
  },
  {
   "cell_type": "markdown",
   "metadata": {},
   "source": [
    "# See also\n",
    "[Wikipedia](https://en.wikipedia.org/wiki/Exclusive_or)\n",
    "\n",
    "[RNG for one time pads](https://www.random.org/bytes/) (but don't reuse them!)\n",
    "\n",
    "[CyberChef web app for XORing quickly](https://gchq.github.io/CyberChef/)"
   ]
  }
 ],
 "metadata": {
  "kernelspec": {
   "display_name": "Python 3.9.13 64-bit (microsoft store)",
   "language": "python",
   "name": "python3"
  },
  "language_info": {
   "codemirror_mode": {
    "name": "ipython",
    "version": 3
   },
   "file_extension": ".py",
   "mimetype": "text/x-python",
   "name": "python",
   "nbconvert_exporter": "python",
   "pygments_lexer": "ipython3",
   "version": "3.9.13"
  },
  "orig_nbformat": 2,
  "vscode": {
   "interpreter": {
    "hash": "cd177599d9772c9d72f3ff2ef8e464f4cda19650bff83834b80ac155b6728c86"
   }
  }
 },
 "nbformat": 4,
 "nbformat_minor": 2
}
